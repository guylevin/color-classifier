{
  "nbformat": 4,
  "nbformat_minor": 0,
  "metadata": {
    "colab": {
      "name": "Classify a black video feed using Histogram and Naive Bayes.ipynb",
      "provenance": [],
      "collapsed_sections": [],
      "toc_visible": true,
      "machine_shape": "hm",
      "include_colab_link": true
    },
    "kernelspec": {
      "name": "python3",
      "display_name": "Python 3"
    }
  },
  "cells": [
    {
      "cell_type": "markdown",
      "metadata": {
        "id": "view-in-github",
        "colab_type": "text"
      },
      "source": [
        "<a href=\"https://colab.research.google.com/github/guylevin/color-classifier/blob/main/Classify_a_black_video_feed_using_Histogram_and_Naive_Bayes.ipynb\" target=\"_parent\"><img src=\"https://colab.research.google.com/assets/colab-badge.svg\" alt=\"Open In Colab\"/></a>"
      ]
    },
    {
      "cell_type": "markdown",
      "metadata": {
        "id": "0MRC0e0KhQ0S"
      },
      "source": [
        "# Classify a black video feed using Histogram and Naive Bayes"
      ]
    },
    {
      "cell_type": "markdown",
      "metadata": {
        "id": "EMefrVPCg-60"
      },
      "source": [
        "### Importing the libraries"
      ]
    },
    {
      "cell_type": "code",
      "metadata": {
        "id": "sCV30xyVhFbE"
      },
      "source": [
        "import tensorflow as tf\n",
        "from keras.preprocessing.image import ImageDataGenerator\n",
        "\n",
        "import math\n",
        "from os import listdir\n",
        "from os.path import isfile, join\n",
        "import cv2\n",
        "from keras.preprocessing.image import ImageDataGenerator\n",
        "\n",
        "import numpy as np\n",
        "import matplotlib.pyplot as plt\n",
        "import pandas as pd"
      ],
      "execution_count": null,
      "outputs": []
    },
    {
      "cell_type": "code",
      "metadata": {
        "id": "FIleuCAjoFD8",
        "colab": {
          "base_uri": "https://localhost:8080/",
          "height": 35
        },
        "outputId": "36ada205-21f1-40cd-a77d-e24bf232b44c"
      },
      "source": [
        "tf.__version__"
      ],
      "execution_count": null,
      "outputs": [
        {
          "output_type": "execute_result",
          "data": {
            "application/vnd.google.colaboratory.intrinsic+json": {
              "type": "string"
            },
            "text/plain": [
              "'2.4.0'"
            ]
          },
          "metadata": {
            "tags": []
          },
          "execution_count": 6
        }
      ]
    },
    {
      "cell_type": "markdown",
      "metadata": {
        "id": "oxQxCBWyoGPE"
      },
      "source": [
        "## Data Preprocessing"
      ]
    },
    {
      "cell_type": "markdown",
      "metadata": {
        "id": "9BgT4EgnVbOA"
      },
      "source": [
        "### Getting the dataset ready"
      ]
    },
    {
      "cell_type": "markdown",
      "metadata": {
        "id": "FOnN-4Wo1kv7"
      },
      "source": [
        "#### Connect to google drive to get the videos"
      ]
    },
    {
      "cell_type": "code",
      "metadata": {
        "colab": {
          "base_uri": "https://localhost:8080/"
        },
        "id": "zcg0HyetWGFn",
        "outputId": "74dd99ff-4b2c-4151-81c1-4f0c96fc8d6c"
      },
      "source": [
        "from google.colab import drive\n",
        "drive.mount('/content/drive')"
      ],
      "execution_count": null,
      "outputs": [
        {
          "output_type": "stream",
          "text": [
            "Drive already mounted at /content/drive; to attempt to forcibly remount, call drive.mount(\"/content/drive\", force_remount=True).\n"
          ],
          "name": "stdout"
        }
      ]
    },
    {
      "cell_type": "markdown",
      "metadata": {
        "id": "mLrzr8aE2QGz"
      },
      "source": [
        "#### Set consts"
      ]
    },
    {
      "cell_type": "code",
      "metadata": {
        "id": "S1ZH03qJ07SJ"
      },
      "source": [
        "black_videos=\"/content/drive/MyDrive/Colab Notebooks/Classify a black video feed/dataset/black\"\n",
        "normal_videos=\"/content/drive/MyDrive/Colab Notebooks/Classify a black video feed/dataset/normal\"\n",
        "\n",
        "\n",
        "frames_dir=\"/content/dataset/\"\n",
        "black_frames=join(frames_dir, \"black_frames\")\n",
        "normal_frames=join(frames_dir, \"normal_frames\")\n",
        "\n",
        "# !rm -r $frames_dir\n",
        "!mkdir -p $black_frames $normal_frames"
      ],
      "execution_count": null,
      "outputs": []
    },
    {
      "cell_type": "markdown",
      "metadata": {
        "id": "1pDVkk6A2WgJ"
      },
      "source": [
        "#### Extract Frames"
      ]
    },
    {
      "cell_type": "code",
      "metadata": {
        "id": "xz-YrK29W275"
      },
      "source": [
        "def split_videos_into_frames(input_dir, output_dir, image_index):\n",
        "  video_files = [join(input_dir, f) for f in listdir(input_dir) if isfile(join(input_dir, f))]  \n",
        "\n",
        "  for video_file in video_files:\n",
        "    # print(\"Extracting frames from \" + video_file)\n",
        "    image_index = extract_frames(video_file, output_dir, image_index)\n",
        "\n",
        "  return image_index\n",
        "\n",
        "def extract_frames(video_file, output_dir, image_index):\n",
        "  cap = cv2.VideoCapture(video_file)\n",
        "  \n",
        "  frame_rate = cap.get(cv2.CAP_PROP_FPS)    \n",
        "\n",
        "  while(cap.isOpened()):\n",
        "    ret, frame = cap.read()\n",
        "    if (ret != True):\n",
        "      break\n",
        "    \n",
        "    frame_possition = cap.get(cv2.CAP_PROP_POS_FRAMES)\n",
        "    if (frame_possition % math.floor(frame_rate) == 0): # take 1 frame a second\n",
        "      filename = join(output_dir, f'{image_index:05d}.jpg')\n",
        "      # print(f'Writing frame {filename}')\n",
        "      cv2.imwrite(filename, frame)\n",
        "      image_index += 1\n",
        "\n",
        "  cap.release()\n",
        "  return image_index\n",
        "\n",
        "\n"
      ],
      "execution_count": null,
      "outputs": []
    },
    {
      "cell_type": "code",
      "metadata": {
        "id": "klpocqXHXhha",
        "colab": {
          "base_uri": "https://localhost:8080/"
        },
        "outputId": "a737e373-672a-4c52-df48-9fbbae97e02e"
      },
      "source": [
        "image_index=0\n",
        "image_index = split_videos_into_frames(black_videos, black_frames, image_index)\n",
        "image_index = split_videos_into_frames(normal_videos, normal_frames, image_index)\n",
        "\n",
        "print(f\"Extracted {image_index} images\")"
      ],
      "execution_count": null,
      "outputs": [
        {
          "output_type": "stream",
          "text": [
            "Extracted 3413 images\n"
          ],
          "name": "stdout"
        }
      ]
    },
    {
      "cell_type": "markdown",
      "metadata": {
        "id": "PIVf4uv6alJa"
      },
      "source": [
        "### Extracting Histogram"
      ]
    },
    {
      "cell_type": "code",
      "metadata": {
        "id": "M7BoqcGpZpUu"
      },
      "source": [
        "# from matplotlib import pyplot as plt \n",
        "\n",
        "def image_to_histogram(image_file):\n",
        "  img = cv2.imread(image_file)\n",
        "  hist = cv2.calcHist([img],[0],None,[256],[0,256])\n",
        "  # hist=hist.T\n",
        "  return hist\n",
        "\n",
        "\n",
        "def tag_images(input_dir, tag):\n",
        "\n",
        "  image_hists = []\n",
        "\n",
        "  image_files = [join(input_dir, f) for f in listdir(input_dir) if isfile(join(input_dir, f))]  \n",
        "\n",
        "  for image_file in image_files:\n",
        "    image_hist = image_to_histogram(image_file)   \n",
        "    image_hist = np.vstack((image_hist, tag)) \n",
        "\n",
        "    if not len(image_hists):\n",
        "      image_hists = image_hist\n",
        "    else:\n",
        "      image_hists = np.hstack((image_hists, image_hist))  \n",
        "  \n",
        "  return image_hists\n",
        "\n",
        "\n",
        "black_hists = tag_images(black_frames, 1) # black\n",
        "normal_hists = tag_images(normal_frames, 0) # normal\n"
      ],
      "execution_count": null,
      "outputs": []
    },
    {
      "cell_type": "markdown",
      "metadata": {
        "id": "FpkIOL6eK4RJ"
      },
      "source": [
        "Combine Data"
      ]
    },
    {
      "cell_type": "code",
      "metadata": {
        "colab": {
          "base_uri": "https://localhost:8080/",
          "height": 1000
        },
        "id": "2rChP2PJK4oQ",
        "outputId": "2e730553-6356-4886-ae7f-a42f6d84ed53"
      },
      "source": [
        "\n",
        "plt.plot(normal_hists[:-1, 0], 'b') \n",
        "plt.title('Normal')\n",
        "plt.show()\n",
        "\n",
        "plt.plot(black_hists[:-1, 0], 'g') \n",
        "plt.title('Black')\n",
        "plt.show()\n",
        "\n",
        "\n",
        "all_hists = np.hstack((normal_hists, black_hists)).T\n",
        "print(pd.DataFrame(all_hists))\n",
        "\n",
        "plt.plot(all_hists[1, :-1].T) \n",
        "plt.show()"
      ],
      "execution_count": null,
      "outputs": [
        {
          "output_type": "display_data",
          "data": {
            "image/png": "[encoded data removed]",
            "text/plain": [
              "<Figure size 432x288 with 1 Axes>"
            ]
          },
          "metadata": {
            "tags": [],
            "needs_background": "light"
          }
        },
        {
          "output_type": "display_data",
          "data": {
            "image/png": "[encoded data removed]",
            "text/plain": [
              "<Figure size 432x288 with 1 Axes>"
            ]
          },
          "metadata": {
            "tags": [],
            "needs_background": "light"
          }
        },
        {
          "output_type": "stream",
          "text": [
            "           0      1      2      3      4    ...     252     253     254     255  256\n",
            "0          0.0    0.0    0.0    0.0    0.0  ...     0.0     0.0     0.0     0.0  0.0\n",
            "1        161.0   42.0   53.0   59.0   90.0  ...  2547.0  4658.0  2775.0  1824.0  0.0\n",
            "2         63.0   16.0   51.0   38.0   24.0  ...    74.0    78.0    67.0   571.0  0.0\n",
            "3        321.0   17.0   20.0   18.0   27.0  ...   492.0  1095.0   796.0  6281.0  0.0\n",
            "4        480.0   27.0   34.0   43.0   44.0  ...   469.0  1165.0   910.0  6558.0  0.0\n",
            "...        ...    ...    ...    ...    ...  ...     ...     ...     ...     ...  ...\n",
            "3408  918999.0  956.0  558.0  278.0  105.0  ...    23.0    56.0   111.0   457.0  1.0\n",
            "3409  921120.0  205.0   88.0   44.0   19.0  ...     0.0     3.0     7.0   106.0  1.0\n",
            "3410  921120.0  205.0   88.0   44.0   19.0  ...     0.0     3.0     7.0   106.0  1.0\n",
            "3411  921120.0  205.0   88.0   44.0   19.0  ...     0.0     3.0     7.0   106.0  1.0\n",
            "3412  921120.0  205.0   88.0   44.0   19.0  ...     0.0     3.0     7.0   106.0  1.0\n",
            "\n",
            "[3413 rows x 257 columns]\n"
          ],
          "name": "stdout"
        },
        {
          "output_type": "display_data",
          "data": {
            "image/png": "[encoded data removed]",
            "text/plain": [
              "<Figure size 432x288 with 1 Axes>"
            ]
          },
          "metadata": {
            "tags": [],
            "needs_background": "light"
          }
        }
      ]
    },
    {
      "cell_type": "markdown",
      "metadata": {
        "id": "K1VMqkGvhc3-"
      },
      "source": [
        "## Importing the dataset"
      ]
    },
    {
      "cell_type": "code",
      "metadata": {
        "id": "M52QDmyzhh9s"
      },
      "source": [
        "df = pd.DataFrame(all_hists)\n",
        "X = df.iloc[:, :-1].values\n",
        "y = df.iloc[:, -1].values"
      ],
      "execution_count": null,
      "outputs": []
    },
    {
      "cell_type": "markdown",
      "metadata": {
        "id": "YvxIPVyMhmKp"
      },
      "source": [
        "## Splitting the dataset into the Training set and Test set"
      ]
    },
    {
      "cell_type": "code",
      "metadata": {
        "id": "AVzJWAXIhxoC"
      },
      "source": [
        "from sklearn.model_selection import train_test_split\n",
        "X_train, X_test, y_train, y_test = train_test_split(X, y, test_size = 0.25, random_state = 0)"
      ],
      "execution_count": null,
      "outputs": []
    },
    {
      "cell_type": "code",
      "metadata": {
        "id": "P3nS3-6r1i2B",
        "colab": {
          "base_uri": "https://localhost:8080/"
        },
        "outputId": "cc6500b1-969d-4f27-db8d-a78959ca1d2b"
      },
      "source": [
        "print(X_train)"
      ],
      "execution_count": null,
      "outputs": [
        {
          "output_type": "stream",
          "text": [
            "[[1.4400e+02 4.6000e+01 4.4000e+01 ... 4.4000e+01 1.3000e+01 2.2500e+02]\n",
            " [1.0100e+02 1.7000e+01 2.4000e+01 ... 2.7200e+02 2.3900e+02 2.6220e+03]\n",
            " [3.6300e+02 5.1000e+01 6.5000e+01 ... 3.5190e+03 4.1600e+03 2.3661e+04]\n",
            " ...\n",
            " [3.5600e+02 4.2000e+01 3.6000e+01 ... 3.3840e+03 5.5230e+03 8.0710e+03]\n",
            " [5.9000e+02 7.0000e+01 7.0000e+01 ... 3.5000e+02 3.3000e+01 9.3400e+02]\n",
            " [7.8000e+01 3.2000e+01 4.0000e+01 ... 3.4500e+02 2.2700e+02 1.1150e+03]]\n"
          ],
          "name": "stdout"
        }
      ]
    },
    {
      "cell_type": "code",
      "metadata": {
        "id": "8dpDLojm1mVG",
        "colab": {
          "base_uri": "https://localhost:8080/"
        },
        "outputId": "e9a3992f-1503-4fd1-b236-e07a5ce9c8ee"
      },
      "source": [
        "print(y_train)"
      ],
      "execution_count": null,
      "outputs": [
        {
          "output_type": "stream",
          "text": [
            "[0. 0. 0. ... 0. 0. 0.]\n"
          ],
          "name": "stdout"
        }
      ]
    },
    {
      "cell_type": "code",
      "metadata": {
        "id": "qbb7i0DH1qui",
        "colab": {
          "base_uri": "https://localhost:8080/"
        },
        "outputId": "7f2493ba-17b1-4c8c-dc5c-d5eee683c311"
      },
      "source": [
        "print(X_test)"
      ],
      "execution_count": null,
      "outputs": [
        {
          "output_type": "stream",
          "text": [
            "[[4.4300e+02 5.1000e+01 5.9000e+01 ... 1.8500e+02 1.1300e+02 9.9600e+02]\n",
            " [9.2112e+05 2.0500e+02 8.8000e+01 ... 3.0000e+00 7.0000e+00 1.0600e+02]\n",
            " [1.1200e+03 2.1100e+02 2.2900e+02 ... 8.0470e+03 1.7499e+04 9.5372e+04]\n",
            " ...\n",
            " [3.6000e+01 1.4000e+01 3.5000e+01 ... 4.6100e+02 3.3700e+02 2.1720e+03]\n",
            " [0.0000e+00 0.0000e+00 0.0000e+00 ... 1.0000e+00 0.0000e+00 0.0000e+00]\n",
            " [1.1100e+02 3.0000e+01 3.1000e+01 ... 2.4380e+03 1.5050e+03 1.2129e+04]]\n"
          ],
          "name": "stdout"
        }
      ]
    },
    {
      "cell_type": "code",
      "metadata": {
        "id": "kj1hnFAR1s5w",
        "colab": {
          "base_uri": "https://localhost:8080/"
        },
        "outputId": "022eb1d4-4fb7-4063-91aa-818497a19121"
      },
      "source": [
        "print(y_test)"
      ],
      "execution_count": null,
      "outputs": [
        {
          "output_type": "stream",
          "text": [
            "[0. 1. 0. 0. 0. 0. 1. 1. 0. 0. 0. 0. 0. 0. 0. 0. 0. 0. 0. 0. 0. 1. 0. 0.\n",
            " 0. 1. 0. 0. 0. 0. 0. 0. 0. 0. 0. 0. 0. 1. 0. 0. 0. 0. 0. 0. 0. 0. 0. 0.\n",
            " 0. 0. 0. 0. 0. 0. 0. 1. 0. 0. 0. 0. 0. 0. 0. 0. 0. 0. 0. 0. 1. 0. 0. 0.\n",
            " 1. 0. 0. 0. 0. 0. 0. 0. 0. 0. 0. 0. 0. 0. 1. 0. 0. 1. 0. 0. 0. 0. 0. 0.\n",
            " 0. 0. 0. 0. 0. 0. 0. 0. 0. 1. 0. 0. 0. 0. 0. 1. 0. 1. 0. 0. 0. 0. 0. 1.\n",
            " 0. 0. 0. 0. 0. 1. 0. 0. 0. 0. 0. 0. 0. 0. 1. 0. 0. 0. 0. 0. 0. 1. 0. 0.\n",
            " 0. 0. 0. 0. 0. 0. 0. 0. 1. 0. 0. 0. 0. 0. 1. 0. 1. 0. 0. 1. 0. 0. 0. 0.\n",
            " 0. 1. 0. 0. 0. 0. 0. 0. 1. 0. 0. 0. 0. 1. 0. 0. 0. 0. 0. 0. 0. 0. 0. 1.\n",
            " 0. 1. 0. 0. 0. 0. 0. 0. 0. 0. 1. 0. 0. 0. 1. 0. 0. 1. 0. 0. 0. 0. 1. 0.\n",
            " 0. 0. 1. 0. 0. 1. 0. 0. 0. 0. 1. 0. 0. 0. 0. 0. 0. 0. 0. 0. 0. 0. 0. 0.\n",
            " 0. 0. 0. 0. 0. 1. 0. 0. 0. 0. 0. 0. 0. 0. 0. 0. 0. 0. 0. 0. 0. 0. 0. 0.\n",
            " 0. 0. 0. 0. 0. 0. 0. 0. 0. 0. 0. 0. 0. 1. 0. 0. 0. 0. 0. 0. 0. 0. 0. 1.\n",
            " 0. 1. 0. 1. 0. 0. 0. 0. 0. 0. 0. 0. 0. 0. 0. 0. 0. 1. 0. 0. 0. 1. 0. 1.\n",
            " 0. 0. 0. 0. 0. 0. 0. 0. 0. 0. 0. 0. 0. 0. 0. 0. 1. 0. 0. 0. 0. 0. 0. 1.\n",
            " 0. 0. 0. 0. 0. 0. 1. 0. 0. 0. 0. 0. 0. 0. 0. 0. 0. 0. 0. 0. 0. 0. 0. 0.\n",
            " 0. 0. 0. 0. 0. 0. 0. 0. 0. 1. 0. 0. 0. 0. 1. 0. 0. 1. 0. 1. 1. 0. 0. 0.\n",
            " 0. 0. 0. 0. 0. 0. 0. 0. 0. 0. 0. 0. 0. 0. 0. 0. 0. 0. 0. 0. 0. 1. 1. 0.\n",
            " 0. 0. 1. 0. 0. 1. 0. 0. 0. 0. 0. 0. 0. 0. 0. 0. 0. 0. 0. 0. 0. 0. 0. 0.\n",
            " 0. 0. 0. 0. 0. 1. 0. 0. 0. 0. 0. 1. 0. 0. 0. 0. 0. 0. 0. 0. 0. 0. 0. 0.\n",
            " 0. 0. 0. 1. 0. 0. 0. 0. 0. 0. 0. 0. 0. 0. 0. 0. 0. 0. 0. 1. 0. 0. 0. 0.\n",
            " 0. 0. 0. 0. 0. 0. 0. 0. 0. 0. 0. 0. 0. 1. 0. 0. 0. 1. 0. 0. 0. 0. 0. 0.\n",
            " 0. 0. 0. 0. 1. 0. 0. 0. 1. 0. 0. 0. 1. 0. 1. 0. 0. 0. 0. 0. 0. 0. 0. 0.\n",
            " 0. 0. 0. 1. 0. 1. 0. 0. 0. 0. 1. 0. 0. 0. 0. 0. 0. 0. 0. 0. 0. 0. 0. 0.\n",
            " 0. 0. 0. 0. 0. 0. 1. 0. 1. 0. 0. 0. 0. 0. 0. 0. 0. 0. 0. 0. 0. 0. 0. 0.\n",
            " 0. 0. 0. 0. 0. 0. 1. 0. 0. 0. 0. 0. 0. 0. 0. 0. 0. 1. 0. 0. 0. 0. 0. 0.\n",
            " 0. 0. 0. 0. 0. 0. 0. 0. 0. 1. 0. 0. 1. 0. 0. 0. 1. 0. 0. 0. 0. 1. 1. 0.\n",
            " 0. 0. 0. 0. 1. 0. 0. 0. 0. 0. 1. 1. 0. 0. 0. 0. 0. 0. 0. 0. 1. 0. 0. 0.\n",
            " 0. 1. 0. 0. 0. 1. 0. 0. 0. 0. 0. 0. 0. 0. 0. 0. 0. 0. 0. 0. 0. 0. 0. 0.\n",
            " 1. 0. 1. 0. 0. 0. 0. 0. 0. 1. 0. 0. 0. 0. 0. 0. 0. 0. 0. 0. 0. 0. 0. 0.\n",
            " 0. 0. 1. 0. 0. 0. 0. 0. 0. 0. 0. 0. 0. 0. 0. 0. 0. 0. 0. 0. 0. 0. 0. 0.\n",
            " 0. 0. 0. 0. 0. 0. 0. 0. 0. 1. 0. 0. 0. 0. 0. 0. 1. 0. 0. 0. 0. 0. 0. 0.\n",
            " 0. 1. 0. 0. 0. 0. 1. 0. 0. 1. 1. 0. 0. 0. 0. 0. 0. 0. 1. 0. 0. 0. 0. 0.\n",
            " 0. 0. 0. 0. 0. 0. 0. 0. 0. 0. 0. 0. 0. 0. 0. 1. 0. 0. 0. 0. 0. 0. 0. 1.\n",
            " 0. 0. 0. 0. 0. 0. 0. 0. 0. 0. 1. 0. 0. 0. 0. 0. 0. 0. 0. 0. 0. 0. 0. 0.\n",
            " 0. 0. 0. 1. 0. 0. 1. 1. 0. 0. 0. 0. 0. 0. 0. 0. 0. 0. 0. 0. 0. 0. 0. 0.\n",
            " 1. 0. 0. 0. 0. 0. 0. 0. 0. 0. 1. 0. 0. 0.]\n"
          ],
          "name": "stdout"
        }
      ]
    },
    {
      "cell_type": "markdown",
      "metadata": {
        "id": "kW3c7UYih0hT"
      },
      "source": [
        "## Feature Scaling"
      ]
    },
    {
      "cell_type": "code",
      "metadata": {
        "id": "9fQlDPKCh8sc"
      },
      "source": [
        "from sklearn.preprocessing import StandardScaler\n",
        "sc = StandardScaler()\n",
        "X_train = sc.fit_transform(X_train)\n",
        "X_test = sc.transform(X_test)"
      ],
      "execution_count": null,
      "outputs": []
    },
    {
      "cell_type": "code",
      "metadata": {
        "id": "syrnD1Op2BSR",
        "colab": {
          "base_uri": "https://localhost:8080/"
        },
        "outputId": "b52e17f6-18bf-4f22-8051-6f9535f361fa"
      },
      "source": [
        "print(X_train)"
      ],
      "execution_count": null,
      "outputs": [
        {
          "output_type": "stream",
          "text": [
            "[[-0.34440101 -0.24722569 -0.21647579 ... -0.60842765 -0.38291023\n",
            "  -0.47552345]\n",
            " [-0.34455315 -0.36997429 -0.28346674 ... -0.51810893 -0.34859651\n",
            "  -0.39709269]\n",
            " [-0.34362613 -0.22606214 -0.1461353  ...  0.76814053  0.24673134\n",
            "   0.29131151]\n",
            " ...\n",
            " [-0.3436509  -0.26415653 -0.24327217 ...  0.71466234  0.45367647\n",
            "  -0.2187993 ]\n",
            " [-0.34282295 -0.14564064 -0.12938756 ... -0.48721042 -0.37987362\n",
            "  -0.4523247 ]\n",
            " [-0.34463453 -0.30648364 -0.22987398 ... -0.48919109 -0.35041848\n",
            "  -0.44640231]]\n"
          ],
          "name": "stdout"
        }
      ]
    },
    {
      "cell_type": "code",
      "metadata": {
        "id": "JUd6iBRp2C3L",
        "colab": {
          "base_uri": "https://localhost:8080/"
        },
        "outputId": "897a6955-ac9e-4dc0-b462-0d7ff7e745d4"
      },
      "source": [
        "print(X_test)"
      ],
      "execution_count": null,
      "outputs": [
        {
          "output_type": "stream",
          "text": [
            "[[-0.34334307 -0.22606214 -0.16623258 ... -0.55257265 -0.36772717\n",
            "  -0.45029603]\n",
            " [ 2.91423659  0.42577528 -0.06909571 ... -0.62466917 -0.38382121\n",
            "  -0.47941718]\n",
            " [-0.34094768  0.45117154  0.40319049 ...  2.56183858  2.27199993\n",
            "   2.63772311]\n",
            " ...\n",
            " [-0.34478314 -0.38267243 -0.24662172 ... -0.44323947 -0.33371711\n",
            "  -0.41181686]\n",
            " [-0.34491051 -0.44193037 -0.36385588 ... -0.62546144 -0.38488403\n",
            "  -0.48288554]\n",
            " [-0.34451777 -0.31494906 -0.26001991 ...  0.33991889 -0.15637895\n",
            "  -0.08601998]]\n"
          ],
          "name": "stdout"
        }
      ]
    },
    {
      "cell_type": "markdown",
      "metadata": {
        "id": "bb6jCOCQiAmP"
      },
      "source": [
        "## Training the Naive Bayes model on the Training set"
      ]
    },
    {
      "cell_type": "code",
      "metadata": {
        "id": "e0pFVAmciHQs",
        "colab": {
          "base_uri": "https://localhost:8080/"
        },
        "outputId": "f89b38e5-9c7f-4641-c3c8-52b580887acb"
      },
      "source": [
        "from sklearn.naive_bayes import GaussianNB\n",
        "classifier = GaussianNB()\n",
        "classifier.fit(X_train, y_train)"
      ],
      "execution_count": null,
      "outputs": [
        {
          "output_type": "execute_result",
          "data": {
            "text/plain": [
              "GaussianNB(priors=None, var_smoothing=1e-09)"
            ]
          },
          "metadata": {
            "tags": []
          },
          "execution_count": 23
        }
      ]
    },
    {
      "cell_type": "markdown",
      "metadata": {
        "id": "vKYVQH-l5NpE"
      },
      "source": [
        "## Predicting the Test set results"
      ]
    },
    {
      "cell_type": "code",
      "metadata": {
        "id": "p6VMTb2O4hwM",
        "colab": {
          "base_uri": "https://localhost:8080/"
        },
        "outputId": "f44516ed-044f-4d96-e4de-bc09876d401e"
      },
      "source": [
        "y_pred = classifier.predict(X_test)\n",
        "print(np.concatenate((y_pred.reshape(len(y_pred),1), y_test.reshape(len(y_test),1)),1))"
      ],
      "execution_count": null,
      "outputs": [
        {
          "output_type": "stream",
          "text": [
            "[[0. 0.]\n",
            " [1. 1.]\n",
            " [0. 0.]\n",
            " ...\n",
            " [0. 0.]\n",
            " [0. 0.]\n",
            " [0. 0.]]\n"
          ],
          "name": "stdout"
        }
      ]
    },
    {
      "cell_type": "markdown",
      "metadata": {
        "id": "h4Hwj34ziWQW"
      },
      "source": [
        "## Making the Confusion Matrix"
      ]
    },
    {
      "cell_type": "code",
      "metadata": {
        "id": "D6bpZwUiiXic",
        "colab": {
          "base_uri": "https://localhost:8080/"
        },
        "outputId": "79203fc1-0df7-459b-f2ea-54f70fd8de13"
      },
      "source": [
        "from sklearn.metrics import confusion_matrix, accuracy_score\n",
        "cm = confusion_matrix(y_test, y_pred)\n",
        "print(cm)\n",
        "accuracy_score(y_test, y_pred)"
      ],
      "execution_count": null,
      "outputs": [
        {
          "output_type": "stream",
          "text": [
            "[[753   0]\n",
            " [  0 101]]\n"
          ],
          "name": "stdout"
        },
        {
          "output_type": "execute_result",
          "data": {
            "text/plain": [
              "1.0"
            ]
          },
          "metadata": {
            "tags": []
          },
          "execution_count": 25
        }
      ]
    },
    {
      "cell_type": "code",
      "metadata": {
        "colab": {
          "base_uri": "https://localhost:8080/",
          "height": 273
        },
        "id": "5kDlPLfWWrbz",
        "outputId": "4ae27051-c177-4e1f-d371-8ca08dcdcba5"
      },
      "source": [
        "import seaborn as sn\n",
        "\n",
        "df_cm = pd.DataFrame(cm, range(2), range(2))\n",
        "sn.set(font_scale=1.4) # for label size\n",
        "sn.heatmap(df_cm, annot=True, fmt='g', annot_kws={\"size\": 16}) # font size\n",
        "\n",
        "plt.show()"
      ],
      "execution_count": null,
      "outputs": [
        {
          "output_type": "display_data",
          "data": {
            "image/png": "[encoded data removed]",
            "text/plain": [
              "<Figure size 432x288 with 2 Axes>"
            ]
          },
          "metadata": {
            "tags": []
          }
        }
      ]
    },
    {
      "cell_type": "markdown",
      "metadata": {
        "id": "6NZHRCylTcga"
      },
      "source": [
        "## Save the classifier and scaller"
      ]
    },
    {
      "cell_type": "code",
      "metadata": {
        "id": "1cAyTXQEUvfa"
      },
      "source": [
        "models_directory=\"/content/drive/MyDrive/Colab Notebooks/Classify a black video feed/models/hist/\"\n",
        "model_file = join(models_directory, 'model.pkl')\n",
        "scaler_file = join(models_directory, 'scaler.pkl')"
      ],
      "execution_count": null,
      "outputs": []
    },
    {
      "cell_type": "code",
      "metadata": {
        "id": "yaTmSIFITiJ0"
      },
      "source": [
        "from pickle import dump\n",
        "\n",
        "# save the model\n",
        "dump(classifier, open(model_file, 'wb'))\n",
        "# save the scaler\n",
        "dump(sc, open(scaler_file, 'wb'))"
      ],
      "execution_count": null,
      "outputs": []
    },
    {
      "cell_type": "markdown",
      "metadata": {
        "id": "yyxW5b395mR2"
      },
      "source": [
        "## Predicting a new result"
      ]
    },
    {
      "cell_type": "code",
      "metadata": {
        "id": "f8YOXsQy58rP",
        "colab": {
          "base_uri": "https://localhost:8080/"
        },
        "outputId": "dd091987-1e62-4e04-c42d-23baa291fce8"
      },
      "source": [
        "from pickle import load\n",
        "\n",
        "# load the model\n",
        "model = load(open(model_file, 'rb'))\n",
        "# load the scaler\n",
        "scaler = load(open(scaler_file, 'rb'))\n",
        "\n",
        "image_to_predict = '/content/drive/MyDrive/Colab Notebooks/Classify a black video feed/Test Images/black.png'\n",
        "\n",
        "hist = image_to_histogram(image_to_predict)\n",
        "\n",
        "result = classifier.predict(sc.transform(hist.T))\n",
        "print(result)\n",
        "\n",
        "if result[0] == 1:\n",
        "   prediction = 'black'\n",
        "else:\n",
        "   prediction = 'normal'\n",
        "\n",
        "print(prediction)"
      ],
      "execution_count": null,
      "outputs": [
        {
          "output_type": "stream",
          "text": [
            "[1.]\n",
            "black\n"
          ],
          "name": "stdout"
        }
      ]
    }
  ]
}